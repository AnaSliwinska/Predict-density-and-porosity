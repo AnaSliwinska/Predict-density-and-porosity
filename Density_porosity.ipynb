{
 "cells": [
  {
   "cell_type": "code",
   "execution_count": 1,
   "metadata": {},
   "outputs": [],
   "source": [
    "import pandas as pd\n",
    "import numpy as np\n",
    "np.random.seed(2021)\n",
    "from sklearn.linear_model import LinearRegression\n",
    "\n",
    "from sklearn.model_selection import train_test_split\n",
    "from sklearn.metrics import accuracy_score\n",
    "from sklearn.metrics import mean_absolute_error\n",
    "from sklearn.metrics import mean_squared_error\n",
    "\n",
    "from sklearn.preprocessing import StandardScaler\n",
    "\n",
    "from xgboost import XGBRegressor\n",
    "import xgboost as xgb\n",
    "\n",
    "import matplotlib.pyplot as plt\n",
    "%matplotlib inline"
   ]
  },
  {
   "cell_type": "markdown",
   "metadata": {},
   "source": [
    "## Import Data"
   ]
  },
  {
   "cell_type": "code",
   "execution_count": 2,
   "metadata": {},
   "outputs": [
    {
     "data": {
      "text/plain": [
       "(416, 10)"
      ]
     },
     "execution_count": 2,
     "metadata": {},
     "output_type": "execute_result"
    }
   ],
   "source": [
    "train=pd.read_excel('df.xlsx')\n",
    "train.shape"
   ]
  },
  {
   "cell_type": "code",
   "execution_count": 4,
   "metadata": {},
   "outputs": [
    {
     "data": {
      "text/html": [
       "<div>\n",
       "<style scoped>\n",
       "    .dataframe tbody tr th:only-of-type {\n",
       "        vertical-align: middle;\n",
       "    }\n",
       "\n",
       "    .dataframe tbody tr th {\n",
       "        vertical-align: top;\n",
       "    }\n",
       "\n",
       "    .dataframe thead th {\n",
       "        text-align: right;\n",
       "    }\n",
       "</style>\n",
       "<table border=\"1\" class=\"dataframe\">\n",
       "  <thead>\n",
       "    <tr style=\"text-align: right;\">\n",
       "      <th></th>\n",
       "      <th>Depth</th>\n",
       "      <th>Density</th>\n",
       "      <th>Porosity</th>\n",
       "      <th>Poisson</th>\n",
       "      <th>Vp</th>\n",
       "      <th>Vs</th>\n",
       "      <th>TP2</th>\n",
       "      <th>TP1</th>\n",
       "      <th>TS2</th>\n",
       "      <th>TS1</th>\n",
       "    </tr>\n",
       "  </thead>\n",
       "  <tbody>\n",
       "    <tr>\n",
       "      <th>201</th>\n",
       "      <td>15.5</td>\n",
       "      <td>NaN</td>\n",
       "      <td>NaN</td>\n",
       "      <td>0.481</td>\n",
       "      <td>1446.55</td>\n",
       "      <td>279.72</td>\n",
       "      <td>1430.81</td>\n",
       "      <td>739.51</td>\n",
       "      <td>8736.81</td>\n",
       "      <td>5161.86</td>\n",
       "    </tr>\n",
       "    <tr>\n",
       "      <th>229</th>\n",
       "      <td>29.5</td>\n",
       "      <td>NaN</td>\n",
       "      <td>NaN</td>\n",
       "      <td>0.472</td>\n",
       "      <td>2254.18</td>\n",
       "      <td>516.38</td>\n",
       "      <td>953.36</td>\n",
       "      <td>509.74</td>\n",
       "      <td>3751.67</td>\n",
       "      <td>1815.10</td>\n",
       "    </tr>\n",
       "    <tr>\n",
       "      <th>152</th>\n",
       "      <td>33.5</td>\n",
       "      <td>2.24</td>\n",
       "      <td>0.321</td>\n",
       "      <td>0.475</td>\n",
       "      <td>2019.76</td>\n",
       "      <td>436.59</td>\n",
       "      <td>1005.89</td>\n",
       "      <td>510.41</td>\n",
       "      <td>5761.87</td>\n",
       "      <td>3470.85</td>\n",
       "    </tr>\n",
       "    <tr>\n",
       "      <th>359</th>\n",
       "      <td>16.0</td>\n",
       "      <td>NaN</td>\n",
       "      <td>NaN</td>\n",
       "      <td>0.488</td>\n",
       "      <td>1734.82</td>\n",
       "      <td>269.24</td>\n",
       "      <td>1298.93</td>\n",
       "      <td>722.50</td>\n",
       "      <td>9919.94</td>\n",
       "      <td>6205.71</td>\n",
       "    </tr>\n",
       "    <tr>\n",
       "      <th>256</th>\n",
       "      <td>5.0</td>\n",
       "      <td>NaN</td>\n",
       "      <td>NaN</td>\n",
       "      <td>0.497</td>\n",
       "      <td>1582.98</td>\n",
       "      <td>123.56</td>\n",
       "      <td>1319.81</td>\n",
       "      <td>688.09</td>\n",
       "      <td>17609.04</td>\n",
       "      <td>9516.01</td>\n",
       "    </tr>\n",
       "    <tr>\n",
       "      <th>370</th>\n",
       "      <td>21.5</td>\n",
       "      <td>NaN</td>\n",
       "      <td>NaN</td>\n",
       "      <td>0.476</td>\n",
       "      <td>1601.88</td>\n",
       "      <td>340.75</td>\n",
       "      <td>1327.65</td>\n",
       "      <td>703.38</td>\n",
       "      <td>6219.66</td>\n",
       "      <td>3284.96</td>\n",
       "    </tr>\n",
       "    <tr>\n",
       "      <th>215</th>\n",
       "      <td>22.5</td>\n",
       "      <td>NaN</td>\n",
       "      <td>NaN</td>\n",
       "      <td>0.480</td>\n",
       "      <td>1623.08</td>\n",
       "      <td>320.52</td>\n",
       "      <td>1257.80</td>\n",
       "      <td>641.69</td>\n",
       "      <td>6739.59</td>\n",
       "      <td>3619.70</td>\n",
       "    </tr>\n",
       "    <tr>\n",
       "      <th>92</th>\n",
       "      <td>3.5</td>\n",
       "      <td>NaN</td>\n",
       "      <td>NaN</td>\n",
       "      <td>0.494</td>\n",
       "      <td>1566.63</td>\n",
       "      <td>175.09</td>\n",
       "      <td>1303.52</td>\n",
       "      <td>665.16</td>\n",
       "      <td>13369.60</td>\n",
       "      <td>7644.97</td>\n",
       "    </tr>\n",
       "    <tr>\n",
       "      <th>214</th>\n",
       "      <td>22.0</td>\n",
       "      <td>1.86</td>\n",
       "      <td>NaN</td>\n",
       "      <td>0.480</td>\n",
       "      <td>1659.14</td>\n",
       "      <td>321.53</td>\n",
       "      <td>1287.97</td>\n",
       "      <td>685.25</td>\n",
       "      <td>7188.91</td>\n",
       "      <td>4078.81</td>\n",
       "    </tr>\n",
       "    <tr>\n",
       "      <th>62</th>\n",
       "      <td>32.0</td>\n",
       "      <td>2.28</td>\n",
       "      <td>NaN</td>\n",
       "      <td>0.459</td>\n",
       "      <td>2116.67</td>\n",
       "      <td>582.47</td>\n",
       "      <td>1003.90</td>\n",
       "      <td>531.50</td>\n",
       "      <td>3655.00</td>\n",
       "      <td>1938.20</td>\n",
       "    </tr>\n",
       "  </tbody>\n",
       "</table>\n",
       "</div>"
      ],
      "text/plain": [
       "     Depth  Density  Porosity  Poisson       Vp      Vs      TP2     TP1  \\\n",
       "201   15.5      NaN       NaN    0.481  1446.55  279.72  1430.81  739.51   \n",
       "229   29.5      NaN       NaN    0.472  2254.18  516.38   953.36  509.74   \n",
       "152   33.5     2.24     0.321    0.475  2019.76  436.59  1005.89  510.41   \n",
       "359   16.0      NaN       NaN    0.488  1734.82  269.24  1298.93  722.50   \n",
       "256    5.0      NaN       NaN    0.497  1582.98  123.56  1319.81  688.09   \n",
       "370   21.5      NaN       NaN    0.476  1601.88  340.75  1327.65  703.38   \n",
       "215   22.5      NaN       NaN    0.480  1623.08  320.52  1257.80  641.69   \n",
       "92     3.5      NaN       NaN    0.494  1566.63  175.09  1303.52  665.16   \n",
       "214   22.0     1.86       NaN    0.480  1659.14  321.53  1287.97  685.25   \n",
       "62    32.0     2.28       NaN    0.459  2116.67  582.47  1003.90  531.50   \n",
       "\n",
       "          TS2      TS1  \n",
       "201   8736.81  5161.86  \n",
       "229   3751.67  1815.10  \n",
       "152   5761.87  3470.85  \n",
       "359   9919.94  6205.71  \n",
       "256  17609.04  9516.01  \n",
       "370   6219.66  3284.96  \n",
       "215   6739.59  3619.70  \n",
       "92   13369.60  7644.97  \n",
       "214   7188.91  4078.81  \n",
       "62    3655.00  1938.20  "
      ]
     },
     "execution_count": 4,
     "metadata": {},
     "output_type": "execute_result"
    }
   ],
   "source": [
    "train.sample(10)"
   ]
  },
  {
   "cell_type": "markdown",
   "metadata": {},
   "source": [
    "## Data preparation"
   ]
  },
  {
   "cell_type": "code",
   "execution_count": 5,
   "metadata": {},
   "outputs": [
    {
     "name": "stdout",
     "output_type": "stream",
     "text": [
      "<class 'pandas.core.frame.DataFrame'>\n",
      "RangeIndex: 416 entries, 0 to 415\n",
      "Data columns (total 10 columns):\n",
      " #   Column    Non-Null Count  Dtype  \n",
      "---  ------    --------------  -----  \n",
      " 0   Depth     416 non-null    float64\n",
      " 1   Density   111 non-null    float64\n",
      " 2   Porosity  70 non-null     float64\n",
      " 3   Poisson   416 non-null    float64\n",
      " 4   Vp        416 non-null    float64\n",
      " 5   Vs        416 non-null    float64\n",
      " 6   TP2       416 non-null    float64\n",
      " 7   TP1       416 non-null    float64\n",
      " 8   TS2       416 non-null    float64\n",
      " 9   TS1       416 non-null    float64\n",
      "dtypes: float64(10)\n",
      "memory usage: 32.6 KB\n"
     ]
    }
   ],
   "source": [
    "train.info()"
   ]
  },
  {
   "cell_type": "code",
   "execution_count": 6,
   "metadata": {},
   "outputs": [],
   "source": [
    "train = train.drop('Porosity', axis=1)"
   ]
  },
  {
   "cell_type": "code",
   "execution_count": 7,
   "metadata": {},
   "outputs": [
    {
     "name": "stdout",
     "output_type": "stream",
     "text": [
      "<class 'pandas.core.frame.DataFrame'>\n",
      "Int64Index: 111 entries, 58 to 415\n",
      "Data columns (total 9 columns):\n",
      " #   Column   Non-Null Count  Dtype  \n",
      "---  ------   --------------  -----  \n",
      " 0   Depth    111 non-null    float64\n",
      " 1   Density  111 non-null    float64\n",
      " 2   Poisson  111 non-null    float64\n",
      " 3   Vp       111 non-null    float64\n",
      " 4   Vs       111 non-null    float64\n",
      " 5   TP2      111 non-null    float64\n",
      " 6   TP1      111 non-null    float64\n",
      " 7   TS2      111 non-null    float64\n",
      " 8   TS1      111 non-null    float64\n",
      "dtypes: float64(9)\n",
      "memory usage: 8.7 KB\n"
     ]
    }
   ],
   "source": [
    "df=train.dropna(axis='rows')\n",
    "df.info()"
   ]
  },
  {
   "cell_type": "code",
   "execution_count": 8,
   "metadata": {},
   "outputs": [
    {
     "data": {
      "text/html": [
       "<div>\n",
       "<style scoped>\n",
       "    .dataframe tbody tr th:only-of-type {\n",
       "        vertical-align: middle;\n",
       "    }\n",
       "\n",
       "    .dataframe tbody tr th {\n",
       "        vertical-align: top;\n",
       "    }\n",
       "\n",
       "    .dataframe thead th {\n",
       "        text-align: right;\n",
       "    }\n",
       "</style>\n",
       "<table border=\"1\" class=\"dataframe\">\n",
       "  <thead>\n",
       "    <tr style=\"text-align: right;\">\n",
       "      <th></th>\n",
       "      <th>Depth</th>\n",
       "      <th>Density</th>\n",
       "      <th>Poisson</th>\n",
       "      <th>Vp</th>\n",
       "      <th>Vs</th>\n",
       "      <th>TP2</th>\n",
       "      <th>TP1</th>\n",
       "      <th>TS2</th>\n",
       "      <th>TS1</th>\n",
       "    </tr>\n",
       "  </thead>\n",
       "  <tbody>\n",
       "    <tr>\n",
       "      <th>227</th>\n",
       "      <td>28.5</td>\n",
       "      <td>2.05</td>\n",
       "      <td>0.458</td>\n",
       "      <td>2126.32</td>\n",
       "      <td>590.95</td>\n",
       "      <td>988.79</td>\n",
       "      <td>518.49</td>\n",
       "      <td>4246.83</td>\n",
       "      <td>2554.65</td>\n",
       "    </tr>\n",
       "    <tr>\n",
       "      <th>195</th>\n",
       "      <td>12.5</td>\n",
       "      <td>1.98</td>\n",
       "      <td>0.485</td>\n",
       "      <td>1661.19</td>\n",
       "      <td>285.92</td>\n",
       "      <td>1350.88</td>\n",
       "      <td>748.90</td>\n",
       "      <td>8470.60</td>\n",
       "      <td>4973.15</td>\n",
       "    </tr>\n",
       "    <tr>\n",
       "      <th>112</th>\n",
       "      <td>13.5</td>\n",
       "      <td>2.01</td>\n",
       "      <td>0.488</td>\n",
       "      <td>1544.36</td>\n",
       "      <td>231.08</td>\n",
       "      <td>1354.65</td>\n",
       "      <td>707.12</td>\n",
       "      <td>13327.72</td>\n",
       "      <td>8969.24</td>\n",
       "    </tr>\n",
       "    <tr>\n",
       "      <th>79</th>\n",
       "      <td>40.5</td>\n",
       "      <td>1.98</td>\n",
       "      <td>0.464</td>\n",
       "      <td>1458.76</td>\n",
       "      <td>379.58</td>\n",
       "      <td>1264.80</td>\n",
       "      <td>579.20</td>\n",
       "      <td>10735.00</td>\n",
       "      <td>8100.50</td>\n",
       "    </tr>\n",
       "    <tr>\n",
       "      <th>396</th>\n",
       "      <td>34.5</td>\n",
       "      <td>2.04</td>\n",
       "      <td>0.468</td>\n",
       "      <td>1362.39</td>\n",
       "      <td>333.82</td>\n",
       "      <td>1368.15</td>\n",
       "      <td>634.15</td>\n",
       "      <td>6103.40</td>\n",
       "      <td>3107.77</td>\n",
       "    </tr>\n",
       "  </tbody>\n",
       "</table>\n",
       "</div>"
      ],
      "text/plain": [
       "     Depth  Density  Poisson       Vp      Vs      TP2     TP1       TS2  \\\n",
       "227   28.5     2.05    0.458  2126.32  590.95   988.79  518.49   4246.83   \n",
       "195   12.5     1.98    0.485  1661.19  285.92  1350.88  748.90   8470.60   \n",
       "112   13.5     2.01    0.488  1544.36  231.08  1354.65  707.12  13327.72   \n",
       "79    40.5     1.98    0.464  1458.76  379.58  1264.80  579.20  10735.00   \n",
       "396   34.5     2.04    0.468  1362.39  333.82  1368.15  634.15   6103.40   \n",
       "\n",
       "         TS1  \n",
       "227  2554.65  \n",
       "195  4973.15  \n",
       "112  8969.24  \n",
       "79   8100.50  \n",
       "396  3107.77  "
      ]
     },
     "execution_count": 8,
     "metadata": {},
     "output_type": "execute_result"
    }
   ],
   "source": [
    "df.sample(5)"
   ]
  },
  {
   "cell_type": "markdown",
   "metadata": {},
   "source": [
    "## Basic Model"
   ]
  },
  {
   "cell_type": "markdown",
   "metadata": {},
   "source": [
    "## Predict density"
   ]
  },
  {
   "cell_type": "code",
   "execution_count": 9,
   "metadata": {},
   "outputs": [],
   "source": [
    "y = df['Density']"
   ]
  },
  {
   "cell_type": "code",
   "execution_count": 10,
   "metadata": {},
   "outputs": [],
   "source": [
    "X = df[['Depth', 'Poisson', 'Vp', 'Vs', 'TP2', 'TP1', 'TS2', 'TS1']]"
   ]
  },
  {
   "cell_type": "code",
   "execution_count": 11,
   "metadata": {},
   "outputs": [],
   "source": [
    "X_train, X_test, y_train, y_test = train_test_split(X, y, test_size=0.3, random_state=2021)"
   ]
  },
  {
   "cell_type": "code",
   "execution_count": 12,
   "metadata": {},
   "outputs": [],
   "source": [
    "scaler = StandardScaler()\n",
    "scaler.fit(X_train)\n",
    "\n",
    "X_train = scaler.transform(X_train)\n",
    "X_test = scaler.transform(X_test)"
   ]
  },
  {
   "cell_type": "code",
   "execution_count": 13,
   "metadata": {},
   "outputs": [],
   "source": [
    "xgb_reg = xgb.XGBRegressor(colsample_bytree= 0.8,\n",
    "gamma= 0.1,\n",
    "  learning_rate= 0.1,\n",
    "  max_depth= 8,\n",
    "  min_child_weight= 2,\n",
    "  n_estimators= 100,\n",
    "  nthread= 4,\n",
    "  objective= 'reg:squarederror',\n",
    "  scale_pos_weight= 1,\n",
    "  seed= 27,\n",
    "  subsample= 0.8, random_state=2021)"
   ]
  },
  {
   "cell_type": "code",
   "execution_count": 14,
   "metadata": {},
   "outputs": [
    {
     "data": {
      "text/plain": [
       "XGBRegressor(base_score=0.5, booster='gbtree', colsample_bylevel=1,\n",
       "             colsample_bynode=1, colsample_bytree=0.8, gamma=0.1, gpu_id=-1,\n",
       "             importance_type='gain', interaction_constraints='',\n",
       "             learning_rate=0.1, max_delta_step=0, max_depth=8,\n",
       "             min_child_weight=2, missing=nan, monotone_constraints='()',\n",
       "             n_estimators=100, n_jobs=4, nthread=4, num_parallel_tree=1,\n",
       "             random_state=2021, reg_alpha=0, reg_lambda=1, scale_pos_weight=1,\n",
       "             seed=27, subsample=0.8, tree_method='exact', validate_parameters=1,\n",
       "             verbosity=None)"
      ]
     },
     "execution_count": 14,
     "metadata": {},
     "output_type": "execute_result"
    }
   ],
   "source": [
    "xgb_reg.fit(X_train,y_train)"
   ]
  },
  {
   "cell_type": "code",
   "execution_count": 15,
   "metadata": {},
   "outputs": [],
   "source": [
    "predict=xgb_reg.predict(X_test)"
   ]
  },
  {
   "cell_type": "code",
   "execution_count": 16,
   "metadata": {},
   "outputs": [
    {
     "name": "stdout",
     "output_type": "stream",
     "text": [
      "RMSE: 0.108393\n"
     ]
    }
   ],
   "source": [
    "rmse = np.sqrt(mean_squared_error(y_test, predict))\n",
    "print(\"RMSE: %f\" % (rmse))"
   ]
  },
  {
   "cell_type": "code",
   "execution_count": 17,
   "metadata": {},
   "outputs": [
    {
     "name": "stdout",
     "output_type": "stream",
     "text": [
      "Training score:  0.6760566006629376\n"
     ]
    }
   ],
   "source": [
    "score = xgb_reg.score(X_train, y_train)\n",
    "print(\"Training score: \", score)"
   ]
  },
  {
   "cell_type": "code",
   "execution_count": 18,
   "metadata": {},
   "outputs": [
    {
     "data": {
      "image/png": "[encoded data removed]",
      "text/plain": [
       "<Figure size 432x288 with 1 Axes>"
      ]
     },
     "metadata": {
      "needs_background": "light"
     },
     "output_type": "display_data"
    }
   ],
   "source": [
    "x_ax = range(len(y_test))\n",
    "plt.plot(x_ax, y_test, label=\"original\")\n",
    "plt.plot(x_ax, predict, label=\"predicted\")\n",
    "plt.title(\"Density test and predicted data\")\n",
    "plt.legend()\n",
    "plt.show()"
   ]
  },
  {
   "cell_type": "code",
   "execution_count": 19,
   "metadata": {},
   "outputs": [],
   "source": [
    "test=pd.read_excel('df.xlsx')"
   ]
  },
  {
   "cell_type": "code",
   "execution_count": 20,
   "metadata": {},
   "outputs": [
    {
     "data": {
      "text/html": [
       "<div>\n",
       "<style scoped>\n",
       "    .dataframe tbody tr th:only-of-type {\n",
       "        vertical-align: middle;\n",
       "    }\n",
       "\n",
       "    .dataframe tbody tr th {\n",
       "        vertical-align: top;\n",
       "    }\n",
       "\n",
       "    .dataframe thead th {\n",
       "        text-align: right;\n",
       "    }\n",
       "</style>\n",
       "<table border=\"1\" class=\"dataframe\">\n",
       "  <thead>\n",
       "    <tr style=\"text-align: right;\">\n",
       "      <th></th>\n",
       "      <th>Depth</th>\n",
       "      <th>Density</th>\n",
       "      <th>Porosity</th>\n",
       "      <th>Poisson</th>\n",
       "      <th>Vp</th>\n",
       "      <th>Vs</th>\n",
       "      <th>TP2</th>\n",
       "      <th>TP1</th>\n",
       "      <th>TS2</th>\n",
       "      <th>TS1</th>\n",
       "    </tr>\n",
       "  </thead>\n",
       "  <tbody>\n",
       "    <tr>\n",
       "      <th>0</th>\n",
       "      <td>1.0</td>\n",
       "      <td>NaN</td>\n",
       "      <td>NaN</td>\n",
       "      <td>0.448</td>\n",
       "      <td>3616.17</td>\n",
       "      <td>108.06</td>\n",
       "      <td>975.2</td>\n",
       "      <td>698.7</td>\n",
       "      <td>2593.3</td>\n",
       "      <td>1690.8</td>\n",
       "    </tr>\n",
       "    <tr>\n",
       "      <th>1</th>\n",
       "      <td>1.5</td>\n",
       "      <td>NaN</td>\n",
       "      <td>NaN</td>\n",
       "      <td>0.484</td>\n",
       "      <td>2085.48</td>\n",
       "      <td>367.41</td>\n",
       "      <td>1170.7</td>\n",
       "      <td>691.2</td>\n",
       "      <td>9444.8</td>\n",
       "      <td>6723.0</td>\n",
       "    </tr>\n",
       "    <tr>\n",
       "      <th>2</th>\n",
       "      <td>2.0</td>\n",
       "      <td>NaN</td>\n",
       "      <td>NaN</td>\n",
       "      <td>0.487</td>\n",
       "      <td>1541.31</td>\n",
       "      <td>243.55</td>\n",
       "      <td>1335.0</td>\n",
       "      <td>686.2</td>\n",
       "      <td>14933.6</td>\n",
       "      <td>10827.6</td>\n",
       "    </tr>\n",
       "    <tr>\n",
       "      <th>3</th>\n",
       "      <td>2.5</td>\n",
       "      <td>NaN</td>\n",
       "      <td>NaN</td>\n",
       "      <td>0.479</td>\n",
       "      <td>1559.33</td>\n",
       "      <td>311.92</td>\n",
       "      <td>1335.0</td>\n",
       "      <td>693.7</td>\n",
       "      <td>13268.6</td>\n",
       "      <td>10062.6</td>\n",
       "    </tr>\n",
       "    <tr>\n",
       "      <th>4</th>\n",
       "      <td>3.0</td>\n",
       "      <td>NaN</td>\n",
       "      <td>NaN</td>\n",
       "      <td>0.470</td>\n",
       "      <td>1568.93</td>\n",
       "      <td>376.07</td>\n",
       "      <td>1335.8</td>\n",
       "      <td>698.4</td>\n",
       "      <td>12247.0</td>\n",
       "      <td>9587.9</td>\n",
       "    </tr>\n",
       "  </tbody>\n",
       "</table>\n",
       "</div>"
      ],
      "text/plain": [
       "   Depth  Density  Porosity  Poisson       Vp      Vs     TP2    TP1      TS2  \\\n",
       "0    1.0      NaN       NaN    0.448  3616.17  108.06   975.2  698.7   2593.3   \n",
       "1    1.5      NaN       NaN    0.484  2085.48  367.41  1170.7  691.2   9444.8   \n",
       "2    2.0      NaN       NaN    0.487  1541.31  243.55  1335.0  686.2  14933.6   \n",
       "3    2.5      NaN       NaN    0.479  1559.33  311.92  1335.0  693.7  13268.6   \n",
       "4    3.0      NaN       NaN    0.470  1568.93  376.07  1335.8  698.4  12247.0   \n",
       "\n",
       "       TS1  \n",
       "0   1690.8  \n",
       "1   6723.0  \n",
       "2  10827.6  \n",
       "3  10062.6  \n",
       "4   9587.9  "
      ]
     },
     "execution_count": 20,
     "metadata": {},
     "output_type": "execute_result"
    }
   ],
   "source": [
    "test.head()"
   ]
  },
  {
   "cell_type": "code",
   "execution_count": 21,
   "metadata": {},
   "outputs": [],
   "source": [
    "test = test.drop('Porosity', axis=1)\n",
    "test = test.drop('Density', axis=1)"
   ]
  },
  {
   "cell_type": "code",
   "execution_count": 22,
   "metadata": {},
   "outputs": [
    {
     "name": "stdout",
     "output_type": "stream",
     "text": [
      "<class 'pandas.core.frame.DataFrame'>\n",
      "RangeIndex: 416 entries, 0 to 415\n",
      "Data columns (total 8 columns):\n",
      " #   Column   Non-Null Count  Dtype  \n",
      "---  ------   --------------  -----  \n",
      " 0   Depth    416 non-null    float64\n",
      " 1   Poisson  416 non-null    float64\n",
      " 2   Vp       416 non-null    float64\n",
      " 3   Vs       416 non-null    float64\n",
      " 4   TP2      416 non-null    float64\n",
      " 5   TP1      416 non-null    float64\n",
      " 6   TS2      416 non-null    float64\n",
      " 7   TS1      416 non-null    float64\n",
      "dtypes: float64(8)\n",
      "memory usage: 26.1 KB\n"
     ]
    }
   ],
   "source": [
    "test.info()"
   ]
  },
  {
   "cell_type": "code",
   "execution_count": 23,
   "metadata": {},
   "outputs": [],
   "source": [
    "X = test[['Depth', 'Poisson', 'Vp', 'Vs', 'TP2', 'TP1', 'TS2', 'TS1']]"
   ]
  },
  {
   "cell_type": "code",
   "execution_count": 24,
   "metadata": {},
   "outputs": [],
   "source": [
    "X_test = scaler.transform(X)"
   ]
  },
  {
   "cell_type": "code",
   "execution_count": 25,
   "metadata": {},
   "outputs": [
    {
     "data": {
      "text/plain": [
       "array([2.1454306, 2.1589835, 2.0013638, 2.0008223, 2.0303423, 2.0013638,\n",
       "       2.0013638, 2.0013638, 2.0013638, 2.0013638, 2.0013638, 2.0198662,\n",
       "       2.0581763, 2.0581763, 2.0581763, 2.0581763, 2.0198662, 2.0581763,\n",
       "       2.0013638, 2.0013638, 2.0013638, 2.0581763, 2.1104374, 2.1104374,\n",
       "       2.1104374, 2.1324139, 2.0879567, 2.1393685, 2.1188362, 2.1408126,\n",
       "       2.1283355, 2.1188362, 2.0963554, 2.1188362, 2.1324139, 2.1324139,\n",
       "       2.1324139, 2.1324139, 2.1188362, 2.1326485, 2.1220841, 2.1402442,\n",
       "       2.1169517, 2.155617 , 2.1497436, 2.2575917, 2.2575917, 2.2575917,\n",
       "       2.2575917, 2.2575917, 2.2575917, 2.2575917, 2.2575917, 2.2575917,\n",
       "       2.2575917, 2.2575917, 2.2275155, 2.2575917, 2.2575917, 2.2575917,\n",
       "       2.2575917, 2.2575917, 2.2575917, 2.2575917, 2.2575917, 2.2575917,\n",
       "       2.2575917, 2.2575917, 2.2480924, 2.2241948, 2.1458666, 2.1612394,\n",
       "       2.0008223, 2.0303423, 2.1613655, 2.0581763, 2.066575 , 2.138827 ,\n",
       "       2.1683471, 2.1683471, 2.1483264, 2.1778464, 2.1778464, 2.1716678,\n",
       "       2.155971 , 2.155971 , 2.155971 , 2.0013638, 2.0013638, 2.0013638,\n",
       "       2.0013638, 2.0581763, 2.0581763, 2.0536604, 2.0198662, 2.0198662,\n",
       "       2.0536604, 2.0536604, 2.0013638, 2.0013638, 2.0013638, 2.0013638,\n",
       "       2.0008223, 2.0008223, 2.0013638, 2.0013638, 2.0013638, 2.0013638,\n",
       "       2.0013638, 2.0013638, 2.0013638, 2.0013638, 2.0013638, 2.0013638,\n",
       "       2.0013638, 2.0008223, 2.0008223, 2.0008223, 2.0008223, 2.0008223,\n",
       "       2.0008223, 2.0008223, 2.012739 , 2.087155 , 2.0576348, 2.1247911,\n",
       "       2.0013638, 2.0008223, 2.0013638, 2.0013638, 2.0013638, 1.985269 ,\n",
       "       2.0008223, 2.0008223, 2.0008223, 2.0008223, 1.985269 , 1.9619768,\n",
       "       1.9619768, 1.985269 , 2.0536604, 2.0536604, 2.0858595, 2.1326485,\n",
       "       2.1497436, 2.1616597, 2.2399879, 2.2280717, 2.2280717, 2.2280717,\n",
       "       2.2575917, 2.2575917, 2.2575917, 2.2575917, 2.233694 , 2.2241948,\n",
       "       2.1528406, 2.085532 , 2.0229528, 2.0008223, 2.0576348, 2.0335984,\n",
       "       2.0581763, 2.1324139, 2.1104374, 2.1104374, 2.1304283, 2.1304283,\n",
       "       2.092118 , 2.0008223, 2.1304283, 2.138827 , 2.138827 , 2.1326485,\n",
       "       2.118332 , 2.1408126, 2.1408126, 2.1408126, 2.0858595, 2.107836 ,\n",
       "       2.127898 , 2.127898 , 2.1324139, 2.1362967, 2.1362967, 2.127898 ,\n",
       "       2.145796 , 2.1362967, 2.0514562, 2.0008223, 2.0008223, 2.0013638,\n",
       "       2.0781634, 1.9627887, 1.9627887, 2.0008223, 2.0008223, 2.0008223,\n",
       "       2.0008223, 2.0008223, 2.0008223, 2.0008223, 2.0008223, 2.0008223,\n",
       "       2.0013638, 2.0008223, 2.0008223, 2.0008223, 2.0008223, 2.0008223,\n",
       "       1.985269 , 2.0008223, 2.0008223, 2.0008223, 2.0008223, 2.1402442,\n",
       "       2.1402442, 2.1464717, 2.1464717, 2.1464717, 2.2480924, 2.2480924,\n",
       "       2.2480924, 2.2480924, 2.2575917, 2.2575917, 2.2575917, 2.2575917,\n",
       "       2.2575917, 2.2575917, 2.2575917, 2.2575917, 2.2575917, 2.2575917,\n",
       "       2.2575917, 2.2480924, 2.1890597, 2.1890597, 2.1890597, 2.2480924,\n",
       "       2.2575917, 2.2575917, 2.2575917, 2.2575917, 2.2575917, 2.2575917,\n",
       "       2.155971 , 2.2575917, 2.2575917, 2.2575917, 2.155971 , 2.2575917,\n",
       "       2.2575917, 2.0013638, 2.0013638, 2.0013638, 2.0013638, 2.0013638,\n",
       "       2.0013638, 2.0013638, 2.0013638, 2.0013638, 2.0013638, 2.0013638,\n",
       "       2.0013638, 2.0013638, 2.0013638, 2.0013638, 2.0013638, 2.0581763,\n",
       "       2.0013638, 2.0013638, 2.0013638, 2.0013638, 2.0013638, 2.0013638,\n",
       "       2.0013638, 2.0013638, 2.0013638, 2.0013638, 2.0013638, 2.0013638,\n",
       "       2.0013638, 2.0013638, 2.0013638, 2.0013638, 2.0013638, 2.1242497,\n",
       "       2.0942583, 2.1326485, 2.1697643, 2.1697643, 2.1437616, 2.1318455,\n",
       "       2.1242497, 2.1621685, 2.1716678, 2.1315835, 2.1469564, 2.1596053,\n",
       "       2.150106 , 2.2004123, 2.2480924, 2.2575917, 2.2575917, 2.2575917,\n",
       "       2.2575917, 2.2575917, 2.2575917, 2.2575917, 2.2575917, 2.2575917,\n",
       "       2.2399879, 2.2575917, 2.2280717, 2.2399879, 2.2280717, 2.2280717,\n",
       "       2.2280717, 2.2575917, 2.2575917, 2.1890597, 2.2396936, 2.1890597,\n",
       "       2.1890597, 2.1890597, 2.1890597, 2.1890597, 2.1890597, 2.2396936,\n",
       "       2.2396936, 2.0013638, 2.0013638, 2.0013638, 2.0013638, 2.0013638,\n",
       "       2.0013638, 2.0013638, 2.0013638, 2.0013638, 2.0013638, 2.0013638,\n",
       "       2.0013638, 2.0013638, 2.0013638, 2.0013638, 2.0013638, 2.0013638,\n",
       "       2.0013638, 2.0013638, 2.0013638, 2.0013638, 2.0013638, 2.0013638,\n",
       "       2.0013638, 2.0013638, 2.0008223, 2.0008223, 2.0008223, 2.0008223,\n",
       "       2.0008223, 2.0013638, 2.0013638, 2.0013638, 2.0013638, 2.0013638,\n",
       "       1.985269 , 1.985269 , 2.0084186, 1.9928652, 2.0203345, 2.0885723,\n",
       "       2.1613655, 2.1613655, 2.1767383, 2.1767383, 2.2480924, 2.1697643,\n",
       "       2.1402442, 2.1421478, 2.0556827, 2.0624666, 2.0624666, 2.2399879,\n",
       "       2.2280717, 2.2575917, 2.2575917, 2.2575917, 2.2575917, 2.2575917,\n",
       "       2.2575917, 2.155971 , 2.1464717, 2.1697643, 2.096971 , 2.0885723,\n",
       "       2.0793674, 2.067451 , 2.059855 , 2.1188362, 2.1188362, 2.113816 ,\n",
       "       2.0323904, 2.1855488, 2.195563 , 2.2061257, 2.1640873, 2.2185724,\n",
       "       2.2185724, 2.2396936, 2.2396936, 2.087439 , 2.1107316, 2.037938 ,\n",
       "       2.0303423, 2.0303423], dtype=float32)"
      ]
     },
     "execution_count": 25,
     "metadata": {},
     "output_type": "execute_result"
    }
   ],
   "source": [
    "density = xgb_reg.predict(X_test)\n",
    "density"
   ]
  },
  {
   "cell_type": "code",
   "execution_count": 26,
   "metadata": {},
   "outputs": [
    {
     "data": {
      "text/html": [
       "<div>\n",
       "<style scoped>\n",
       "    .dataframe tbody tr th:only-of-type {\n",
       "        vertical-align: middle;\n",
       "    }\n",
       "\n",
       "    .dataframe tbody tr th {\n",
       "        vertical-align: top;\n",
       "    }\n",
       "\n",
       "    .dataframe thead th {\n",
       "        text-align: right;\n",
       "    }\n",
       "</style>\n",
       "<table border=\"1\" class=\"dataframe\">\n",
       "  <thead>\n",
       "    <tr style=\"text-align: right;\">\n",
       "      <th></th>\n",
       "      <th>Depth</th>\n",
       "      <th>Poisson</th>\n",
       "      <th>Vp</th>\n",
       "      <th>Vs</th>\n",
       "      <th>TP2</th>\n",
       "      <th>TP1</th>\n",
       "      <th>TS2</th>\n",
       "      <th>TS1</th>\n",
       "      <th>density</th>\n",
       "    </tr>\n",
       "  </thead>\n",
       "  <tbody>\n",
       "    <tr>\n",
       "      <th>0</th>\n",
       "      <td>1.0</td>\n",
       "      <td>0.448</td>\n",
       "      <td>3616.17</td>\n",
       "      <td>108.06</td>\n",
       "      <td>975.2</td>\n",
       "      <td>698.7</td>\n",
       "      <td>2593.3</td>\n",
       "      <td>1690.8</td>\n",
       "      <td>2.145431</td>\n",
       "    </tr>\n",
       "    <tr>\n",
       "      <th>1</th>\n",
       "      <td>1.5</td>\n",
       "      <td>0.484</td>\n",
       "      <td>2085.48</td>\n",
       "      <td>367.41</td>\n",
       "      <td>1170.7</td>\n",
       "      <td>691.2</td>\n",
       "      <td>9444.8</td>\n",
       "      <td>6723.0</td>\n",
       "      <td>2.158983</td>\n",
       "    </tr>\n",
       "    <tr>\n",
       "      <th>2</th>\n",
       "      <td>2.0</td>\n",
       "      <td>0.487</td>\n",
       "      <td>1541.31</td>\n",
       "      <td>243.55</td>\n",
       "      <td>1335.0</td>\n",
       "      <td>686.2</td>\n",
       "      <td>14933.6</td>\n",
       "      <td>10827.6</td>\n",
       "      <td>2.001364</td>\n",
       "    </tr>\n",
       "    <tr>\n",
       "      <th>3</th>\n",
       "      <td>2.5</td>\n",
       "      <td>0.479</td>\n",
       "      <td>1559.33</td>\n",
       "      <td>311.92</td>\n",
       "      <td>1335.0</td>\n",
       "      <td>693.7</td>\n",
       "      <td>13268.6</td>\n",
       "      <td>10062.6</td>\n",
       "      <td>2.000822</td>\n",
       "    </tr>\n",
       "    <tr>\n",
       "      <th>4</th>\n",
       "      <td>3.0</td>\n",
       "      <td>0.470</td>\n",
       "      <td>1568.93</td>\n",
       "      <td>376.07</td>\n",
       "      <td>1335.8</td>\n",
       "      <td>698.4</td>\n",
       "      <td>12247.0</td>\n",
       "      <td>9587.9</td>\n",
       "      <td>2.030342</td>\n",
       "    </tr>\n",
       "  </tbody>\n",
       "</table>\n",
       "</div>"
      ],
      "text/plain": [
       "   Depth  Poisson       Vp      Vs     TP2    TP1      TS2      TS1   density\n",
       "0    1.0    0.448  3616.17  108.06   975.2  698.7   2593.3   1690.8  2.145431\n",
       "1    1.5    0.484  2085.48  367.41  1170.7  691.2   9444.8   6723.0  2.158983\n",
       "2    2.0    0.487  1541.31  243.55  1335.0  686.2  14933.6  10827.6  2.001364\n",
       "3    2.5    0.479  1559.33  311.92  1335.0  693.7  13268.6  10062.6  2.000822\n",
       "4    3.0    0.470  1568.93  376.07  1335.8  698.4  12247.0   9587.9  2.030342"
      ]
     },
     "execution_count": 26,
     "metadata": {},
     "output_type": "execute_result"
    }
   ],
   "source": [
    "test['density'] = density\n",
    "test.head()"
   ]
  },
  {
   "cell_type": "code",
   "execution_count": 27,
   "metadata": {},
   "outputs": [],
   "source": [
    "test.to_excel('df_density.xlsx')"
   ]
  },
  {
   "cell_type": "markdown",
   "metadata": {},
   "source": [
    "## Predict porosity"
   ]
  },
  {
   "cell_type": "code",
   "execution_count": 28,
   "metadata": {},
   "outputs": [
    {
     "data": {
      "text/html": [
       "<div>\n",
       "<style scoped>\n",
       "    .dataframe tbody tr th:only-of-type {\n",
       "        vertical-align: middle;\n",
       "    }\n",
       "\n",
       "    .dataframe tbody tr th {\n",
       "        vertical-align: top;\n",
       "    }\n",
       "\n",
       "    .dataframe thead th {\n",
       "        text-align: right;\n",
       "    }\n",
       "</style>\n",
       "<table border=\"1\" class=\"dataframe\">\n",
       "  <thead>\n",
       "    <tr style=\"text-align: right;\">\n",
       "      <th></th>\n",
       "      <th>Unnamed: 0</th>\n",
       "      <th>Depth</th>\n",
       "      <th>Poisson</th>\n",
       "      <th>Vp</th>\n",
       "      <th>Vs</th>\n",
       "      <th>TP2</th>\n",
       "      <th>TP1</th>\n",
       "      <th>TS2</th>\n",
       "      <th>TS1</th>\n",
       "      <th>density</th>\n",
       "      <th>Porosity</th>\n",
       "    </tr>\n",
       "  </thead>\n",
       "  <tbody>\n",
       "    <tr>\n",
       "      <th>0</th>\n",
       "      <td>0</td>\n",
       "      <td>1.0</td>\n",
       "      <td>0.448</td>\n",
       "      <td>3616.17</td>\n",
       "      <td>1108.06</td>\n",
       "      <td>975.2</td>\n",
       "      <td>698.7</td>\n",
       "      <td>2593.3</td>\n",
       "      <td>1690.8</td>\n",
       "      <td>2.199117</td>\n",
       "      <td>NaN</td>\n",
       "    </tr>\n",
       "    <tr>\n",
       "      <th>1</th>\n",
       "      <td>1</td>\n",
       "      <td>1.5</td>\n",
       "      <td>0.484</td>\n",
       "      <td>2085.48</td>\n",
       "      <td>367.41</td>\n",
       "      <td>1170.7</td>\n",
       "      <td>691.2</td>\n",
       "      <td>9444.8</td>\n",
       "      <td>6723.0</td>\n",
       "      <td>2.145491</td>\n",
       "      <td>NaN</td>\n",
       "    </tr>\n",
       "    <tr>\n",
       "      <th>2</th>\n",
       "      <td>2</td>\n",
       "      <td>2.0</td>\n",
       "      <td>0.487</td>\n",
       "      <td>1541.31</td>\n",
       "      <td>243.55</td>\n",
       "      <td>1335.0</td>\n",
       "      <td>686.2</td>\n",
       "      <td>14933.6</td>\n",
       "      <td>10827.6</td>\n",
       "      <td>2.005254</td>\n",
       "      <td>NaN</td>\n",
       "    </tr>\n",
       "    <tr>\n",
       "      <th>3</th>\n",
       "      <td>3</td>\n",
       "      <td>2.5</td>\n",
       "      <td>0.479</td>\n",
       "      <td>1559.33</td>\n",
       "      <td>311.92</td>\n",
       "      <td>1335.0</td>\n",
       "      <td>693.7</td>\n",
       "      <td>13268.6</td>\n",
       "      <td>10062.6</td>\n",
       "      <td>2.027521</td>\n",
       "      <td>NaN</td>\n",
       "    </tr>\n",
       "    <tr>\n",
       "      <th>4</th>\n",
       "      <td>4</td>\n",
       "      <td>3.0</td>\n",
       "      <td>0.470</td>\n",
       "      <td>1568.93</td>\n",
       "      <td>376.07</td>\n",
       "      <td>1335.8</td>\n",
       "      <td>698.4</td>\n",
       "      <td>12247.0</td>\n",
       "      <td>9587.9</td>\n",
       "      <td>2.027521</td>\n",
       "      <td>NaN</td>\n",
       "    </tr>\n",
       "  </tbody>\n",
       "</table>\n",
       "</div>"
      ],
      "text/plain": [
       "   Unnamed: 0  Depth  Poisson       Vp       Vs     TP2    TP1      TS2  \\\n",
       "0           0    1.0    0.448  3616.17  1108.06   975.2  698.7   2593.3   \n",
       "1           1    1.5    0.484  2085.48   367.41  1170.7  691.2   9444.8   \n",
       "2           2    2.0    0.487  1541.31   243.55  1335.0  686.2  14933.6   \n",
       "3           3    2.5    0.479  1559.33   311.92  1335.0  693.7  13268.6   \n",
       "4           4    3.0    0.470  1568.93   376.07  1335.8  698.4  12247.0   \n",
       "\n",
       "       TS1   density  Porosity  \n",
       "0   1690.8  2.199117       NaN  \n",
       "1   6723.0  2.145491       NaN  \n",
       "2  10827.6  2.005254       NaN  \n",
       "3  10062.6  2.027521       NaN  \n",
       "4   9587.9  2.027521       NaN  "
      ]
     },
     "execution_count": 28,
     "metadata": {},
     "output_type": "execute_result"
    }
   ],
   "source": [
    "phie=pd.read_excel('phie.xlsx')\n",
    "phie.head()"
   ]
  },
  {
   "cell_type": "code",
   "execution_count": 29,
   "metadata": {},
   "outputs": [],
   "source": [
    "phie = phie.drop('Unnamed: 0', axis=1)"
   ]
  },
  {
   "cell_type": "code",
   "execution_count": 30,
   "metadata": {},
   "outputs": [
    {
     "name": "stdout",
     "output_type": "stream",
     "text": [
      "<class 'pandas.core.frame.DataFrame'>\n",
      "Int64Index: 70 entries, 58 to 415\n",
      "Data columns (total 10 columns):\n",
      " #   Column    Non-Null Count  Dtype  \n",
      "---  ------    --------------  -----  \n",
      " 0   Depth     70 non-null     float64\n",
      " 1   Poisson   70 non-null     float64\n",
      " 2   Vp        70 non-null     float64\n",
      " 3   Vs        70 non-null     float64\n",
      " 4   TP2       70 non-null     float64\n",
      " 5   TP1       70 non-null     float64\n",
      " 6   TS2       70 non-null     float64\n",
      " 7   TS1       70 non-null     float64\n",
      " 8   density   70 non-null     float64\n",
      " 9   Porosity  70 non-null     float64\n",
      "dtypes: float64(10)\n",
      "memory usage: 6.0 KB\n"
     ]
    }
   ],
   "source": [
    "phie=phie.dropna(axis='rows')\n",
    "phie.info()"
   ]
  },
  {
   "cell_type": "code",
   "execution_count": 31,
   "metadata": {},
   "outputs": [],
   "source": [
    "y = phie['Porosity']"
   ]
  },
  {
   "cell_type": "code",
   "execution_count": 32,
   "metadata": {},
   "outputs": [],
   "source": [
    "X = phie[['Depth', 'Poisson', 'Vp', 'Vs', 'TP2', 'TP1', 'TS2', 'TS1', 'density']]"
   ]
  },
  {
   "cell_type": "code",
   "execution_count": 33,
   "metadata": {},
   "outputs": [],
   "source": [
    "X_train, X_test, y_train, y_test = train_test_split(X, y, test_size=0.2, random_state=2021)"
   ]
  },
  {
   "cell_type": "code",
   "execution_count": 34,
   "metadata": {},
   "outputs": [],
   "source": [
    "scaler = StandardScaler()\n",
    "scaler.fit(X_train)\n",
    "\n",
    "X_train = scaler.transform(X_train)\n",
    "X_test = scaler.transform(X_test)"
   ]
  },
  {
   "cell_type": "code",
   "execution_count": 35,
   "metadata": {},
   "outputs": [],
   "source": [
    "xgb_reg = xgb.XGBRegressor(colsample_bytree= 0.8,\n",
    "gamma= 0.1,\n",
    "  learning_rate= 0.1,\n",
    "  max_depth= 8,\n",
    "  min_child_weight= 2,\n",
    "  n_estimators= 100,\n",
    "  nthread= 4,\n",
    "  objective= 'reg:squarederror',\n",
    "  scale_pos_weight= 1,\n",
    "  seed= 27,\n",
    "  subsample= 0.8, random_state=2021)"
   ]
  },
  {
   "cell_type": "code",
   "execution_count": 36,
   "metadata": {},
   "outputs": [
    {
     "data": {
      "text/plain": [
       "XGBRegressor(base_score=0.5, booster='gbtree', colsample_bylevel=1,\n",
       "             colsample_bynode=1, colsample_bytree=0.8, gamma=0.1, gpu_id=-1,\n",
       "             importance_type='gain', interaction_constraints='',\n",
       "             learning_rate=0.1, max_delta_step=0, max_depth=8,\n",
       "             min_child_weight=2, missing=nan, monotone_constraints='()',\n",
       "             n_estimators=100, n_jobs=4, nthread=4, num_parallel_tree=1,\n",
       "             random_state=2021, reg_alpha=0, reg_lambda=1, scale_pos_weight=1,\n",
       "             seed=27, subsample=0.8, tree_method='exact', validate_parameters=1,\n",
       "             verbosity=None)"
      ]
     },
     "execution_count": 36,
     "metadata": {},
     "output_type": "execute_result"
    }
   ],
   "source": [
    "xgb_reg.fit(X_train,y_train)"
   ]
  },
  {
   "cell_type": "code",
   "execution_count": 37,
   "metadata": {},
   "outputs": [],
   "source": [
    "predict=xgb_reg.predict(X_test)"
   ]
  },
  {
   "cell_type": "code",
   "execution_count": 38,
   "metadata": {},
   "outputs": [
    {
     "name": "stdout",
     "output_type": "stream",
     "text": [
      "RMSE: 0.121118\n"
     ]
    }
   ],
   "source": [
    "rmse = np.sqrt(mean_squared_error(y_test, predict))\n",
    "print(\"RMSE: %f\" % (rmse))"
   ]
  },
  {
   "cell_type": "code",
   "execution_count": 39,
   "metadata": {},
   "outputs": [
    {
     "name": "stdout",
     "output_type": "stream",
     "text": [
      "Training score:  0.8342344057314433\n"
     ]
    }
   ],
   "source": [
    "score = xgb_reg.score(X_train, y_train)\n",
    "print(\"Training score: \", score)"
   ]
  },
  {
   "cell_type": "code",
   "execution_count": 40,
   "metadata": {},
   "outputs": [
    {
     "data": {
      "image/png": "[encoded data removed]",
      "text/plain": [
       "<Figure size 432x288 with 1 Axes>"
      ]
     },
     "metadata": {
      "needs_background": "light"
     },
     "output_type": "display_data"
    }
   ],
   "source": [
    "x_ax = range(len(y_test))\n",
    "plt.plot(x_ax, y_test, label=\"original\")\n",
    "plt.plot(x_ax, predict, label=\"predicted\")\n",
    "plt.title(\"Porosity test and predicted data\")\n",
    "plt.legend()\n",
    "plt.show()"
   ]
  },
  {
   "cell_type": "code",
   "execution_count": 41,
   "metadata": {},
   "outputs": [],
   "source": [
    "test=pd.read_excel('df2.xlsx')"
   ]
  },
  {
   "cell_type": "code",
   "execution_count": 42,
   "metadata": {},
   "outputs": [
    {
     "data": {
      "text/html": [
       "<div>\n",
       "<style scoped>\n",
       "    .dataframe tbody tr th:only-of-type {\n",
       "        vertical-align: middle;\n",
       "    }\n",
       "\n",
       "    .dataframe tbody tr th {\n",
       "        vertical-align: top;\n",
       "    }\n",
       "\n",
       "    .dataframe thead th {\n",
       "        text-align: right;\n",
       "    }\n",
       "</style>\n",
       "<table border=\"1\" class=\"dataframe\">\n",
       "  <thead>\n",
       "    <tr style=\"text-align: right;\">\n",
       "      <th></th>\n",
       "      <th>Unnamed: 0</th>\n",
       "      <th>Depth</th>\n",
       "      <th>Poisson</th>\n",
       "      <th>Vp</th>\n",
       "      <th>Vs</th>\n",
       "      <th>TP2</th>\n",
       "      <th>TP1</th>\n",
       "      <th>TS2</th>\n",
       "      <th>TS1</th>\n",
       "      <th>density</th>\n",
       "    </tr>\n",
       "  </thead>\n",
       "  <tbody>\n",
       "    <tr>\n",
       "      <th>0</th>\n",
       "      <td>0</td>\n",
       "      <td>1.0</td>\n",
       "      <td>0.448</td>\n",
       "      <td>3616.17</td>\n",
       "      <td>108.06</td>\n",
       "      <td>975.2</td>\n",
       "      <td>698.7</td>\n",
       "      <td>2593.3</td>\n",
       "      <td>1690.8</td>\n",
       "      <td>2.145431</td>\n",
       "    </tr>\n",
       "    <tr>\n",
       "      <th>1</th>\n",
       "      <td>1</td>\n",
       "      <td>1.5</td>\n",
       "      <td>0.484</td>\n",
       "      <td>2085.48</td>\n",
       "      <td>367.41</td>\n",
       "      <td>1170.7</td>\n",
       "      <td>691.2</td>\n",
       "      <td>9444.8</td>\n",
       "      <td>6723.0</td>\n",
       "      <td>2.158983</td>\n",
       "    </tr>\n",
       "    <tr>\n",
       "      <th>2</th>\n",
       "      <td>2</td>\n",
       "      <td>2.0</td>\n",
       "      <td>0.487</td>\n",
       "      <td>1541.31</td>\n",
       "      <td>243.55</td>\n",
       "      <td>1335.0</td>\n",
       "      <td>686.2</td>\n",
       "      <td>14933.6</td>\n",
       "      <td>10827.6</td>\n",
       "      <td>2.001364</td>\n",
       "    </tr>\n",
       "    <tr>\n",
       "      <th>3</th>\n",
       "      <td>3</td>\n",
       "      <td>2.5</td>\n",
       "      <td>0.479</td>\n",
       "      <td>1559.33</td>\n",
       "      <td>311.92</td>\n",
       "      <td>1335.0</td>\n",
       "      <td>693.7</td>\n",
       "      <td>13268.6</td>\n",
       "      <td>10062.6</td>\n",
       "      <td>2.000822</td>\n",
       "    </tr>\n",
       "    <tr>\n",
       "      <th>4</th>\n",
       "      <td>4</td>\n",
       "      <td>3.0</td>\n",
       "      <td>0.470</td>\n",
       "      <td>1568.93</td>\n",
       "      <td>376.07</td>\n",
       "      <td>1335.8</td>\n",
       "      <td>698.4</td>\n",
       "      <td>12247.0</td>\n",
       "      <td>9587.9</td>\n",
       "      <td>2.030342</td>\n",
       "    </tr>\n",
       "  </tbody>\n",
       "</table>\n",
       "</div>"
      ],
      "text/plain": [
       "   Unnamed: 0  Depth  Poisson       Vp      Vs     TP2    TP1      TS2  \\\n",
       "0           0    1.0    0.448  3616.17  108.06   975.2  698.7   2593.3   \n",
       "1           1    1.5    0.484  2085.48  367.41  1170.7  691.2   9444.8   \n",
       "2           2    2.0    0.487  1541.31  243.55  1335.0  686.2  14933.6   \n",
       "3           3    2.5    0.479  1559.33  311.92  1335.0  693.7  13268.6   \n",
       "4           4    3.0    0.470  1568.93  376.07  1335.8  698.4  12247.0   \n",
       "\n",
       "       TS1   density  \n",
       "0   1690.8  2.145431  \n",
       "1   6723.0  2.158983  \n",
       "2  10827.6  2.001364  \n",
       "3  10062.6  2.000822  \n",
       "4   9587.9  2.030342  "
      ]
     },
     "execution_count": 42,
     "metadata": {},
     "output_type": "execute_result"
    }
   ],
   "source": [
    "test.head()"
   ]
  },
  {
   "cell_type": "code",
   "execution_count": 43,
   "metadata": {},
   "outputs": [],
   "source": [
    "X = test[['Depth', 'Poisson', 'Vp', 'Vs', 'TP2', 'TP1', 'TS2', 'TS1', 'density']]"
   ]
  },
  {
   "cell_type": "code",
   "execution_count": 44,
   "metadata": {},
   "outputs": [],
   "source": [
    "X_test = scaler.transform(X)"
   ]
  },
  {
   "cell_type": "code",
   "execution_count": 45,
   "metadata": {},
   "outputs": [
    {
     "data": {
      "text/plain": [
       "array([0.5072495 , 0.3766812 , 0.6909895 , 0.6771842 , 0.6771842 ,\n",
       "       0.6909895 , 0.6909895 , 0.6909895 , 0.6909895 , 0.6909895 ,\n",
       "       0.6909895 , 0.53023803, 0.53023803, 0.5059805 , 0.5059805 ,\n",
       "       0.6909895 , 0.6909895 , 0.6909895 , 0.6909895 , 0.6909895 ,\n",
       "       0.6909895 , 0.5059805 , 0.5059805 , 0.471162  , 0.471162  ,\n",
       "       0.471162  , 0.471162  , 0.45193884, 0.4713491 , 0.47619638,\n",
       "       0.45193884, 0.45193884, 0.47619638, 0.45193884, 0.49541953,\n",
       "       0.49541953, 0.49541953, 0.47619638, 0.45193884, 0.43813357,\n",
       "       0.47422087, 0.47422087, 0.47422087, 0.47422087, 0.47422087,\n",
       "       0.34555185, 0.34555185, 0.34555185, 0.34555185, 0.34555185,\n",
       "       0.34555185, 0.34555185, 0.32173637, 0.32173637, 0.32173637,\n",
       "       0.32173637, 0.32173637, 0.32173637, 0.32173637, 0.32173637,\n",
       "       0.32173637, 0.32173637, 0.32173637, 0.32173637, 0.32173637,\n",
       "       0.32173637, 0.32173637, 0.32173637, 0.32173637, 0.32173637,\n",
       "       0.41431808, 0.32173637, 0.41431808, 0.45040536, 0.32173637,\n",
       "       0.44353148, 0.62854064, 0.4297262 , 0.32173637, 0.32173637,\n",
       "       0.4297262 , 0.32173637, 0.32173637, 0.32173637, 0.4658135 ,\n",
       "       0.4658135 , 0.4658135 , 0.53023803, 0.53023803, 0.53023803,\n",
       "       0.53023803, 0.53023803, 0.53023803, 0.53023803, 0.53023803,\n",
       "       0.53023803, 0.53023803, 0.5059805 , 0.4905722 , 0.471162  ,\n",
       "       0.4905722 , 0.4905722 , 0.492175  , 0.6771842 , 0.6909895 ,\n",
       "       0.6909895 , 0.6909895 , 0.6909895 , 0.6909895 , 0.5790279 ,\n",
       "       0.6909895 , 0.6909895 , 0.6909895 , 0.6909895 , 0.6909895 ,\n",
       "       0.6771842 , 0.6771842 , 0.6771842 , 0.6771842 , 0.6771842 ,\n",
       "       0.6771842 , 0.6771842 , 0.6771842 , 0.6771842 , 0.5652226 ,\n",
       "       0.5059805 , 0.5059805 , 0.492175  , 0.6909895 , 0.6909895 ,\n",
       "       0.70907414, 0.72707677, 0.7132715 , 0.7132715 , 0.7132715 ,\n",
       "       0.7132715 , 0.72707677, 0.72707677, 0.72707677, 0.47961876,\n",
       "       0.46161613, 0.44353148, 0.46161613, 0.45040536, 0.45040536,\n",
       "       0.32173637, 0.32173637, 0.32173637, 0.32173637, 0.32173637,\n",
       "       0.32173637, 0.32173637, 0.32173637, 0.32173637, 0.32173637,\n",
       "       0.32173637, 0.41431808, 0.41431808, 0.41431808, 0.4297262 ,\n",
       "       0.4297262 , 0.44353148, 0.44353148, 0.45238093, 0.42812335,\n",
       "       0.42812335, 0.41431808, 0.41431808, 0.41431808, 0.41431808,\n",
       "       0.41431808, 0.41431808, 0.41431808, 0.43240273, 0.47619638,\n",
       "       0.5110148 , 0.5110148 , 0.5110148 , 0.5059805 , 0.5059805 ,\n",
       "       0.5048419 , 0.5148299 , 0.49541953, 0.47619638, 0.49560654,\n",
       "       0.47619638, 0.5110148 , 0.48675722, 0.5090394 , 0.69526887,\n",
       "       0.6423658 , 0.70907414, 0.5228447 , 0.5072495 , 0.5072495 ,\n",
       "       0.66045046, 0.6423658 , 0.6423658 , 0.69526887, 0.6771842 ,\n",
       "       0.6771842 , 0.6771842 , 0.7132715 , 0.69526887, 0.6909895 ,\n",
       "       0.6771842 , 0.6771842 , 0.6771842 , 0.7132715 , 0.7132715 ,\n",
       "       0.72707677, 0.7132715 , 0.7132715 , 0.51285434, 0.49344406,\n",
       "       0.4936311 , 0.5090394 , 0.5090394 , 0.4936311 , 0.47422087,\n",
       "       0.34555185, 0.34555185, 0.34555185, 0.34555185, 0.32173637,\n",
       "       0.32173637, 0.32173637, 0.32173637, 0.32173637, 0.32173637,\n",
       "       0.32173637, 0.32173637, 0.32173637, 0.32173637, 0.32173637,\n",
       "       0.32173637, 0.32173637, 0.32173637, 0.32173637, 0.32173637,\n",
       "       0.32173637, 0.32173637, 0.32173637, 0.32173637, 0.32173637,\n",
       "       0.32173637, 0.45040536, 0.32173637, 0.32173637, 0.32173637,\n",
       "       0.45040536, 0.32173637, 0.32173637, 0.5148299 , 0.6909895 ,\n",
       "       0.6909895 , 0.53023803, 0.6909895 , 0.6909895 , 0.6909895 ,\n",
       "       0.53023803, 0.6909895 , 0.6909895 , 0.5564369 , 0.6909895 ,\n",
       "       0.6909895 , 0.6909895 , 0.53023803, 0.6909895 , 0.53023803,\n",
       "       0.6909895 , 0.6909895 , 0.6909895 , 0.6909895 , 0.6909895 ,\n",
       "       0.6909895 , 0.6909895 , 0.6909895 , 0.6909895 , 0.6909895 ,\n",
       "       0.67558134, 0.49541953, 0.471162  , 0.508657  , 0.48924667,\n",
       "       0.70907414, 0.52406514, 0.4754414 , 0.47002348, 0.47422087,\n",
       "       0.34555185, 0.34555185, 0.49344406, 0.49344406, 0.49344406,\n",
       "       0.34555185, 0.34555185, 0.47422087, 0.47422087, 0.39552093,\n",
       "       0.45238093, 0.32173637, 0.32173637, 0.32173637, 0.32173637,\n",
       "       0.32173637, 0.32173637, 0.32173637, 0.32173637, 0.32173637,\n",
       "       0.32173637, 0.32173637, 0.32173637, 0.32173637, 0.32173637,\n",
       "       0.32173637, 0.32173637, 0.32173637, 0.32173637, 0.32173637,\n",
       "       0.32173637, 0.32173637, 0.32173637, 0.32173637, 0.32173637,\n",
       "       0.32173637, 0.32173637, 0.32173637, 0.32173637, 0.32173637,\n",
       "       0.32173637, 0.6909895 , 0.6909895 , 0.6909895 , 0.6909895 ,\n",
       "       0.6909895 , 0.6909895 , 0.6909895 , 0.6909895 , 0.6909895 ,\n",
       "       0.6909895 , 0.6909895 , 0.6909895 , 0.6909895 , 0.6909895 ,\n",
       "       0.6909895 , 0.6909895 , 0.6909895 , 0.6909895 , 0.6909895 ,\n",
       "       0.6909895 , 0.6909895 , 0.6909895 , 0.6909895 , 0.67558134,\n",
       "       0.6561711 , 0.45735672, 0.45735672, 0.45735672, 0.45735672,\n",
       "       0.45735672, 0.471162  , 0.5442095 , 0.6909895 , 0.6909895 ,\n",
       "       0.70907414, 0.7116686 , 0.72707677, 0.7132715 , 0.72707677,\n",
       "       0.7132715 , 0.5282625 , 0.364775  , 0.364775  , 0.34555185,\n",
       "       0.34555185, 0.34555185, 0.34555185, 0.47422087, 0.47422087,\n",
       "       0.48802614, 0.46421063, 0.46421063, 0.32173637, 0.32173637,\n",
       "       0.32173637, 0.32173637, 0.32173637, 0.32173637, 0.32173637,\n",
       "       0.32173637, 0.45040536, 0.45040536, 0.32173637, 0.4658135 ,\n",
       "       0.65082264, 0.65082264, 0.65082264, 0.44781086, 0.44353148,\n",
       "       0.42812335, 0.45238093, 0.48846814, 0.35979924, 0.35979924,\n",
       "       0.35979924, 0.35979924, 0.32173637, 0.32173637, 0.32173637,\n",
       "       0.32173637, 0.45040536, 0.45040536, 0.45040536, 0.65082264,\n",
       "       0.63282   ], dtype=float32)"
      ]
     },
     "execution_count": 45,
     "metadata": {},
     "output_type": "execute_result"
    }
   ],
   "source": [
    "porosity = xgb_reg.predict(X_test)\n",
    "porosity"
   ]
  },
  {
   "cell_type": "code",
   "execution_count": 46,
   "metadata": {},
   "outputs": [
    {
     "data": {
      "text/html": [
       "<div>\n",
       "<style scoped>\n",
       "    .dataframe tbody tr th:only-of-type {\n",
       "        vertical-align: middle;\n",
       "    }\n",
       "\n",
       "    .dataframe tbody tr th {\n",
       "        vertical-align: top;\n",
       "    }\n",
       "\n",
       "    .dataframe thead th {\n",
       "        text-align: right;\n",
       "    }\n",
       "</style>\n",
       "<table border=\"1\" class=\"dataframe\">\n",
       "  <thead>\n",
       "    <tr style=\"text-align: right;\">\n",
       "      <th></th>\n",
       "      <th>Unnamed: 0</th>\n",
       "      <th>Depth</th>\n",
       "      <th>Poisson</th>\n",
       "      <th>Vp</th>\n",
       "      <th>Vs</th>\n",
       "      <th>TP2</th>\n",
       "      <th>TP1</th>\n",
       "      <th>TS2</th>\n",
       "      <th>TS1</th>\n",
       "      <th>density</th>\n",
       "      <th>porosity2</th>\n",
       "    </tr>\n",
       "  </thead>\n",
       "  <tbody>\n",
       "    <tr>\n",
       "      <th>0</th>\n",
       "      <td>0</td>\n",
       "      <td>1.0</td>\n",
       "      <td>0.448</td>\n",
       "      <td>3616.17</td>\n",
       "      <td>108.06</td>\n",
       "      <td>975.2</td>\n",
       "      <td>698.7</td>\n",
       "      <td>2593.3</td>\n",
       "      <td>1690.8</td>\n",
       "      <td>2.145431</td>\n",
       "      <td>0.507249</td>\n",
       "    </tr>\n",
       "    <tr>\n",
       "      <th>1</th>\n",
       "      <td>1</td>\n",
       "      <td>1.5</td>\n",
       "      <td>0.484</td>\n",
       "      <td>2085.48</td>\n",
       "      <td>367.41</td>\n",
       "      <td>1170.7</td>\n",
       "      <td>691.2</td>\n",
       "      <td>9444.8</td>\n",
       "      <td>6723.0</td>\n",
       "      <td>2.158983</td>\n",
       "      <td>0.376681</td>\n",
       "    </tr>\n",
       "    <tr>\n",
       "      <th>2</th>\n",
       "      <td>2</td>\n",
       "      <td>2.0</td>\n",
       "      <td>0.487</td>\n",
       "      <td>1541.31</td>\n",
       "      <td>243.55</td>\n",
       "      <td>1335.0</td>\n",
       "      <td>686.2</td>\n",
       "      <td>14933.6</td>\n",
       "      <td>10827.6</td>\n",
       "      <td>2.001364</td>\n",
       "      <td>0.690989</td>\n",
       "    </tr>\n",
       "    <tr>\n",
       "      <th>3</th>\n",
       "      <td>3</td>\n",
       "      <td>2.5</td>\n",
       "      <td>0.479</td>\n",
       "      <td>1559.33</td>\n",
       "      <td>311.92</td>\n",
       "      <td>1335.0</td>\n",
       "      <td>693.7</td>\n",
       "      <td>13268.6</td>\n",
       "      <td>10062.6</td>\n",
       "      <td>2.000822</td>\n",
       "      <td>0.677184</td>\n",
       "    </tr>\n",
       "    <tr>\n",
       "      <th>4</th>\n",
       "      <td>4</td>\n",
       "      <td>3.0</td>\n",
       "      <td>0.470</td>\n",
       "      <td>1568.93</td>\n",
       "      <td>376.07</td>\n",
       "      <td>1335.8</td>\n",
       "      <td>698.4</td>\n",
       "      <td>12247.0</td>\n",
       "      <td>9587.9</td>\n",
       "      <td>2.030342</td>\n",
       "      <td>0.677184</td>\n",
       "    </tr>\n",
       "  </tbody>\n",
       "</table>\n",
       "</div>"
      ],
      "text/plain": [
       "   Unnamed: 0  Depth  Poisson       Vp      Vs     TP2    TP1      TS2  \\\n",
       "0           0    1.0    0.448  3616.17  108.06   975.2  698.7   2593.3   \n",
       "1           1    1.5    0.484  2085.48  367.41  1170.7  691.2   9444.8   \n",
       "2           2    2.0    0.487  1541.31  243.55  1335.0  686.2  14933.6   \n",
       "3           3    2.5    0.479  1559.33  311.92  1335.0  693.7  13268.6   \n",
       "4           4    3.0    0.470  1568.93  376.07  1335.8  698.4  12247.0   \n",
       "\n",
       "       TS1   density  porosity2  \n",
       "0   1690.8  2.145431   0.507249  \n",
       "1   6723.0  2.158983   0.376681  \n",
       "2  10827.6  2.001364   0.690989  \n",
       "3  10062.6  2.000822   0.677184  \n",
       "4   9587.9  2.030342   0.677184  "
      ]
     },
     "execution_count": 46,
     "metadata": {},
     "output_type": "execute_result"
    }
   ],
   "source": [
    "test['porosity2'] = porosity\n",
    "test.head()"
   ]
  },
  {
   "cell_type": "code",
   "execution_count": 47,
   "metadata": {},
   "outputs": [],
   "source": [
    "test.to_excel('porosity.xlsx')"
   ]
  },
  {
   "cell_type": "code",
   "execution_count": null,
   "metadata": {},
   "outputs": [],
   "source": []
  }
 ],
 "metadata": {
  "kernelspec": {
   "display_name": "Python 3",
   "language": "python",
   "name": "python3"
  },
  "language_info": {
   "codemirror_mode": {
    "name": "ipython",
    "version": 3
   },
   "file_extension": ".py",
   "mimetype": "text/x-python",
   "name": "python",
   "nbconvert_exporter": "python",
   "pygments_lexer": "ipython3",
   "version": "3.8.5"
  }
 },
 "nbformat": 4,
 "nbformat_minor": 4
}
